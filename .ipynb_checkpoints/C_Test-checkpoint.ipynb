{
 "cells": [
  {
   "cell_type": "markdown",
   "metadata": {
    "colab_type": "text",
    "id": "view-in-github"
   },
   "source": [
    "<a href=\"https://colab.research.google.com/github/mmayers88/ECE103-CoLab/blob/main/C_Test.ipynb\" target=\"_parent\"><img src=\"https://colab.research.google.com/assets/colab-badge.svg\" alt=\"Open In Colab\"/></a>"
   ]
  },
  {
   "cell_type": "markdown",
   "metadata": {
    "id": "mqEXovsPcd5S"
   },
   "source": [
    "#C Code\n",
    "----\n",
    "To declare a .c file:\n",
    "> %%writefile **FILE-NAME**.c\n",
    "\n",
    "Is added above the C code. **FILE-NAME** is the name of the file, in the example below, I chose \"main\". This command writes a file to the workspace which can be seen in the jupyter files."
   ]
  },
  {
   "cell_type": "code",
   "execution_count": null,
   "metadata": {
    "colab": {
     "base_uri": "https://localhost:8080/"
    },
    "id": "a1aj0YB1UvHC",
    "outputId": "cb9d0a1e-7761-4cef-ff84-f3542b11f307"
   },
   "outputs": [],
   "source": [
    "%%writefile main.c\n",
    "#include <stdio.h>\n",
    "\n",
    "int main()\n",
    "{\n",
    "    printf(\"Hello, World!\\n\");\n",
    "    return 0;\n",
    "}\n"
   ]
  },
  {
   "cell_type": "markdown",
   "metadata": {
    "id": "IbwF9x2SemV7"
   },
   "source": [
    "#Invoke  Compiler & Run Code\n",
    "----\n",
    "\n",
    ">%%bash\n",
    "\n",
    "Declares the cell to be used as a bash shell, and should be put at the top of the cell. The following commands are standard bash commands, gcc sis installed by default."
   ]
  },
  {
   "cell_type": "code",
   "execution_count": null,
   "metadata": {
    "colab": {
     "base_uri": "https://localhost:8080/"
    },
    "id": "1gDcLErWUye9",
    "outputId": "35212776-f353-4fb1-9cf1-06a0f60be467"
   },
   "outputs": [],
   "source": [
    "%%bash \n",
    "\n",
    "gcc -Wall main.c -o main\n",
    "./main"
   ]
  },
  {
   "cell_type": "markdown",
   "metadata": {
    "id": "NuQTwXNh6kes"
   },
   "source": [
    "#Overwriting files\n",
    "----\n",
    "Using\n",
    "\n",
    ">%%writefile **FILE-NAME**.c\n",
    "\n",
    "file can be overwritten and recomplied into a new executable. Obviously, if you do not want to overwrite the executible, change **FILE-NAME**.c . In example below, *main.c* is overwritten and \"Hello World!\" is changed to \"Hello World2!\"."
   ]
  },
  {
   "cell_type": "code",
   "execution_count": null,
   "metadata": {
    "colab": {
     "base_uri": "https://localhost:8080/"
    },
    "id": "qEWnMFVCWIlM",
    "outputId": "cbf17327-cfce-4cf8-a540-f70bebfe9f3b"
   },
   "outputs": [],
   "source": [
    "%%writefile main.c\n",
    "#include <stdio.h>\n",
    "\n",
    "int main()\n",
    "{\n",
    "    printf(\"Hello, World2!\\n\");\n",
    "    return 0;\n",
    "}"
   ]
  },
  {
   "cell_type": "code",
   "execution_count": null,
   "metadata": {
    "id": "YWfVDkO2cKlb"
   },
   "outputs": [],
   "source": [
    "%%bash \n",
    "\n",
    "gcc -Wall main.c -o main\n",
    "./main"
   ]
  }
 ],
 "metadata": {
  "colab": {
   "authorship_tag": "ABX9TyOLhv5s0Xddwi3tTP5wf0my",
   "collapsed_sections": [],
   "include_colab_link": true,
   "name": "C Test.ipynb",
   "provenance": []
  },
  "kernelspec": {
   "display_name": "Python 3 (ipykernel)",
   "language": "python",
   "name": "python3"
  },
  "language_info": {
   "codemirror_mode": {
    "name": "ipython",
    "version": 3
   },
   "file_extension": ".py",
   "mimetype": "text/x-python",
   "name": "python",
   "nbconvert_exporter": "python",
   "pygments_lexer": "ipython3",
   "version": "3.9.7"
  }
 },
 "nbformat": 4,
 "nbformat_minor": 1
}
