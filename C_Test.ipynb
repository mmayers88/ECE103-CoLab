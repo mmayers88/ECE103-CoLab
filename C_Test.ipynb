{
  "nbformat": 4,
  "nbformat_minor": 0,
  "metadata": {
    "colab": {
      "name": "C Test.ipynb",
      "provenance": [],
      "collapsed_sections": [],
      "authorship_tag": "ABX9TyOLhv5s0Xddwi3tTP5wf0my",
      "include_colab_link": true
    },
    "kernelspec": {
      "name": "python3",
      "display_name": "Python 3"
    },
    "language_info": {
      "name": "python"
    }
  },
  "cells": [
    {
      "cell_type": "markdown",
      "metadata": {
        "id": "view-in-github",
        "colab_type": "text"
      },
      "source": [
        "<a href=\"https://colab.research.google.com/github/mmayers88/ECE103-CoLab/blob/main/C_Test.ipynb\" target=\"_parent\"><img src=\"https://colab.research.google.com/assets/colab-badge.svg\" alt=\"Open In Colab\"/></a>"
      ]
    },
    {
      "cell_type": "markdown",
      "source": [
        "#C Code\n",
        "----\n",
        "To declare a .c file:\n",
        "> %%writefile **FILE-NAME**.c\n",
        "\n",
        "Is added above the C code. **FILE-NAME** is the name of the file, in the example below, I chose \"main\". This command writes a file to the workspace which can be seen in the jupyter files."
      ],
      "metadata": {
        "id": "mqEXovsPcd5S"
      }
    },
    {
      "cell_type": "code",
      "execution_count": 5,
      "metadata": {
        "colab": {
          "base_uri": "https://localhost:8080/"
        },
        "id": "a1aj0YB1UvHC",
        "outputId": "cb9d0a1e-7761-4cef-ff84-f3542b11f307"
      },
      "outputs": [
        {
          "output_type": "stream",
          "name": "stdout",
          "text": [
            "Overwriting main.c\n"
          ]
        }
      ],
      "source": [
        "%%writefile main.c\n",
        "#include <stdio.h>\n",
        "\n",
        "int main()\n",
        "{\n",
        "    printf(\"Hello, World!\\n\");\n",
        "    return 0;\n",
        "}\n"
      ]
    },
    {
      "cell_type": "markdown",
      "source": [
        "#Invoke  Compiler & Run Code\n",
        "----\n",
        "\n",
        ">%%bash\n",
        "\n",
        "Declares the cell to be used as a bash shell, and should be put at the top of the cell. The following commands are standard bash commands, gcc sis installed by default."
      ],
      "metadata": {
        "id": "IbwF9x2SemV7"
      }
    },
    {
      "cell_type": "code",
      "source": [
        "%%bash \n",
        "\n",
        "gcc -Wall main.c -o main\n",
        "./main"
      ],
      "metadata": {
        "colab": {
          "base_uri": "https://localhost:8080/"
        },
        "id": "1gDcLErWUye9",
        "outputId": "35212776-f353-4fb1-9cf1-06a0f60be467"
      },
      "execution_count": 6,
      "outputs": [
        {
          "output_type": "stream",
          "name": "stdout",
          "text": [
            "Hello, World!\n"
          ]
        }
      ]
    },
    {
      "cell_type": "markdown",
      "source": [
        "#Overwriting files\n",
        "----\n",
        "Using\n",
        "\n",
        ">%%writefile **FILE-NAME**.c\n",
        "\n",
        "file can be overwritten and recomplied into a new executable. Obviously, if you do not want to overwrite the executible, change **FILE-NAME**.c . In example below, *main.c* is overwritten and \"Hello World!\" is changed to \"Hello World2!\"."
      ],
      "metadata": {
        "id": "NuQTwXNh6kes"
      }
    },
    {
      "cell_type": "code",
      "source": [
        "%%writefile main.c\n",
        "#include <stdio.h>\n",
        "\n",
        "int main()\n",
        "{\n",
        "    printf(\"Hello, World2!\\n\");\n",
        "    return 0;\n",
        "}"
      ],
      "metadata": {
        "colab": {
          "base_uri": "https://localhost:8080/"
        },
        "id": "qEWnMFVCWIlM",
        "outputId": "cbf17327-cfce-4cf8-a540-f70bebfe9f3b"
      },
      "execution_count": 7,
      "outputs": [
        {
          "output_type": "stream",
          "name": "stdout",
          "text": [
            "Overwriting main.c\n"
          ]
        }
      ]
    },
    {
      "cell_type": "code",
      "source": [
        "%%bash \n",
        "\n",
        "gcc -Wall main.c -o main\n",
        "./main"
      ],
      "metadata": {
        "id": "YWfVDkO2cKlb"
      },
      "execution_count": null,
      "outputs": []
    }
  ]
}