{
  "cells": [
    {
      "cell_type": "markdown",
      "metadata": {
        "colab_type": "text",
        "id": "view-in-github"
      },
      "source": [
        "<a href=\"https://colab.research.google.com/github/mmayers88/ECE103-CoLab/blob/main/Operators_and_functions.ipynb\" target=\"_parent\"><img src=\"https://colab.research.google.com/assets/colab-badge.svg\" alt=\"Open In Colab\"/></a>"
      ]
    },
    {
      "cell_type": "markdown",
      "metadata": {
        "id": "feB_vjiPV_3o"
      },
      "source": [
        "# Operators\n",
        "* Operators perform very basic arithmetic, comparison, and logic operations.\n",
        "* When operators are combined, rules of precedence and associativity determine the evaluation order.\n",
        "\n",
        "* Precedence Rules $\\Rightarrow$ specifies which operator is evaluated first when operators of different precedence are adjacent\n",
        "\n",
        "* Associativity Rules $\\Rightarrow$ specifies which operator is evaluated first when operators of the same precedence are adjacent\n",
        "\n",
        "* +, -, *, / are all included, to exponents(raise to the power) are done via the pow function in math.h\n",
        "\n",
        "> pow(base,exponent);\n",
        "\n",
        "this returns: $base^{exponent}$\n",
        "\n",
        "### Relational and Logical Operators\n",
        "\n",
        "* Important: == (equal to) is not the same as = (assignment)\n"
      ]
    },
    {
      "cell_type": "code",
      "execution_count": null,
      "metadata": {
        "colab": {
          "base_uri": "https://localhost:8080/"
        },
        "id": "1yZrrXOOVw5q",
        "outputId": "07a6457f-e4d3-49fb-b3a7-3b85b6e25d3c"
      },
      "outputs": [],
      "source": [
        "%%writefile ops1.c\n",
        "\n",
        "#include <stdio.h>\n",
        "\n",
        "int main()\n",
        "{\n",
        "  int x = 1;\n",
        "  int y = 0;\n",
        "  printf(\"x = 1 and y = 0\\n\");\n",
        "  printf(\"1 = TRUE and 0 = FALSE\\n\");\n",
        "  printf(\"=========================\\n\");\n",
        "  printf(\"x < y = %d\\n\", x < y);\n",
        "  printf(\"x > y = %d\\n\", x > y);\n",
        "  printf(\"x <= y = %d\\n\", x <= y);\n",
        "  printf(\"x >= y = %d\\n\", x >= y);\n",
        "  printf(\"!x = %d \\n\", !x);\n",
        "  printf(\"x == y = %d\\n\", x == y);\n",
        "  printf(\"x && y = %d\\n\", x && y);\n",
        "  printf(\"x || y = %d\\n\", x || y);\n",
        "\n",
        "  return 0;\n",
        "\n",
        "}"
      ]
    },
    {
      "cell_type": "code",
      "execution_count": null,
      "metadata": {
        "colab": {
          "base_uri": "https://localhost:8080/"
        },
        "id": "NzVUyKLKWpf7",
        "outputId": "2f92604a-c686-4f40-fef1-8807ef593791"
      },
      "outputs": [],
      "source": [
        "%%bash \n",
        "\n",
        "gcc -Wall ops1.c -o ops1\n",
        "./ops1"
      ]
    },
    {
      "cell_type": "markdown",
      "metadata": {},
      "source": [
        "##### Example"
      ]
    },
    {
      "cell_type": "code",
      "execution_count": null,
      "metadata": {
        "colab": {
          "base_uri": "https://localhost:8080/"
        },
        "id": "FIIHQ56TXLXp",
        "outputId": "18c31872-0b09-4f7b-9094-01d3d200de89"
      },
      "outputs": [],
      "source": [
        "%%writefile ops2.c\n",
        "\n",
        "#include <stdio.h>\n",
        "#include <math.h> //math\n",
        "\n",
        "\n",
        "int main()\n",
        "{\n",
        "  double x;\n",
        "  double w;\n",
        "  int t1;\n",
        "  int t2;\n",
        "\n",
        "  w = 5 + sin(3.14);\n",
        "  x = 123 - (10*w);\n",
        "  t1 = w >= 5;\n",
        "  t2 = x > 0 && w < 5;\n",
        "\n",
        "  printf(\"%f %f %d %d\", w, x, t1, t2);\n",
        "\n",
        "  return 0;\n",
        "\n",
        "}"
      ]
    },
    {
      "cell_type": "code",
      "execution_count": null,
      "metadata": {
        "colab": {
          "base_uri": "https://localhost:8080/"
        },
        "id": "0ozjk2-1cAfP",
        "outputId": "22d4583a-0142-4586-e701-abd1e6e9011f"
      },
      "outputs": [],
      "source": [
        "%%bash \n",
        "\n",
        "gcc -Wall ops2.c -o ops2\n",
        "./ops2"
      ]
    },
    {
      "cell_type": "markdown",
      "metadata": {},
      "source": [
        "# Increment and Decrement Operators\n",
        "* i++\n",
        "* i--\n",
        "* --i\n",
        "* ++i"
      ]
    },
    {
      "cell_type": "code",
      "execution_count": null,
      "metadata": {
        "colab": {
          "base_uri": "https://localhost:8080/"
        },
        "id": "7plpmDYlcCwu",
        "outputId": "398c363b-614c-4815-d51a-656bb839d370"
      },
      "outputs": [],
      "source": [
        "%%writefile ops3.c\n",
        "\n",
        "#include <stdio.h>\n",
        "\n",
        "\n",
        "int main()\n",
        "{\n",
        "  int x = 0;\n",
        "\n",
        "  printf(\"x = %d\\n\",x++);\n",
        "  printf(\"x = %d\\n\",++x);\n",
        "  printf(\"x = %d\\n\",x--);\n",
        "  printf(\"x = %d\\n\",--x);\n",
        "\n",
        "  return 0;\n",
        "\n",
        "}"
      ]
    },
    {
      "cell_type": "code",
      "execution_count": null,
      "metadata": {
        "colab": {
          "base_uri": "https://localhost:8080/"
        },
        "id": "Z5P7KDQHdSFJ",
        "outputId": "9c3dcb1e-e2ba-45ac-c717-302025c7d079"
      },
      "outputs": [],
      "source": [
        "%%bash \n",
        "\n",
        "gcc -Wall ops3.c -o ops3\n",
        "./ops3"
      ]
    },
    {
      "cell_type": "markdown",
      "metadata": {},
      "source": [
        "# Assignment Operators\n",
        "* a = a + some_int $\\Rightarrow$ a += some_int\n",
        "* a = a - some_int $\\Rightarrow$ a -= some_int\n",
        "* a = a * some_int $\\Rightarrow$ a *= some_int\n",
        "* a = a / some_int $\\Rightarrow$ a /= some_int"
      ]
    },
    {
      "cell_type": "code",
      "execution_count": null,
      "metadata": {
        "colab": {
          "base_uri": "https://localhost:8080/"
        },
        "id": "I-RdiQ1QdULm",
        "outputId": "da4f6364-9f6d-43ab-f4c2-45a1fd0db56c"
      },
      "outputs": [],
      "source": [
        "%%writefile ops4.c\n",
        "\n",
        "#include <stdio.h>\n",
        "#include <math.h> //math\n",
        "\n",
        "\n",
        "int main()\n",
        "{\n",
        "  int x = 1;\n",
        "\n",
        "  printf(\"x = %d\\n\",x);\n",
        "  printf(\"x = x + 1\\n\");\n",
        "  x = x + 1;\n",
        "  printf(\"x = %d\\n\",x);\n",
        "\n",
        "  printf(\"========add=============\\n\");\n",
        "  printf(\"x = %d\\n\",x);\n",
        "  printf(\"x += 1 \\n\");\n",
        "  x += 1;\n",
        "  printf(\"x = %d\\n\",x);\n",
        "\n",
        "\n",
        "\n",
        "  printf(\"========sub=============\\n\");\n",
        "  printf(\"x = %d\\n\",x);\n",
        "  printf(\"x -= 1 \\n\");\n",
        "  x -= 1;\n",
        "  printf(\"x = %d\\n\",x);\n",
        "  printf(\"========mul=============\\n\");\n",
        "  printf(\"x = %d\\n\",x);\n",
        "  printf(\"x *= 2 \\n\");\n",
        "  x *= 2;\n",
        "  printf(\"x = %d\\n\",x);\n",
        "  printf(\"========div=============\\n\");\n",
        "  printf(\"x = %d\\n\",x);\n",
        "  printf(\"x /= 2 \\n\");\n",
        "  x /= 2;\n",
        "  printf(\"x = %d\\n\",x);\n",
        "  return 0;\n",
        "\n",
        "}"
      ]
    },
    {
      "cell_type": "code",
      "execution_count": null,
      "metadata": {
        "colab": {
          "base_uri": "https://localhost:8080/"
        },
        "id": "lEUFB4qCdowm",
        "outputId": "4b9dadf8-9d07-4c17-ba7f-d2f325e576e0"
      },
      "outputs": [],
      "source": [
        "%%bash \n",
        "\n",
        "gcc -Wall ops4.c -o ops4\n",
        "./ops4"
      ]
    },
    {
      "cell_type": "markdown",
      "metadata": {
        "id": "lqSmGH0ze9iz"
      },
      "source": [
        "# Type Conversion (Casting)\n",
        "* changing types\n",
        "* In an expression that consists of operands with mixed types, the “lower” type is promoted to “higher” type before the operation proceeds. The final result is of the higher type.\n",
        "\n",
        "    * If either operand is double, convert the other to double\n",
        "    * Otherwise, if either operand is float, convert the other to float\n",
        "    * Otherwise, convert char and short to int\n",
        "    * Then, if either operand is long, convert the other to long\n",
        "* The cast operator explicitly converts the type of an expression to a different type.\n",
        "\n",
        "> Syntax:   (type) n\n",
        "\n",
        "* Returns the value of n cast to the specified type.\n",
        "* The original type of n itself is not altered.\n",
        "\n"
      ]
    },
    {
      "cell_type": "code",
      "execution_count": null,
      "metadata": {
        "colab": {
          "base_uri": "https://localhost:8080/"
        },
        "id": "5C0PRWgEd8I_",
        "outputId": "ce418fa8-2b74-412d-8060-97a63f42171a"
      },
      "outputs": [],
      "source": [
        "%%writefile caster.c\n",
        "\n",
        "#include <stdio.h>\n",
        "\n",
        "\n",
        "int main()\n",
        "{\n",
        "  char x = 'A';\n",
        "  int y1;\n",
        "  int y2;\n",
        "\n",
        "  printf(\"y1 = x\\n\");\n",
        "  y1 = x;\n",
        "  printf(\"y1 = %d\\n\", y1);\n",
        "  printf(\"=========================\\n\");\n",
        "  printf(\"y2 = (int)x\\n\");\n",
        "  y2 = (int)x;\n",
        "  printf(\"y2 = %d\\n\", y2);\n",
        "\n",
        "\n",
        "  return 0;\n",
        "\n",
        "}"
      ]
    },
    {
      "cell_type": "code",
      "execution_count": null,
      "metadata": {
        "colab": {
          "base_uri": "https://localhost:8080/"
        },
        "id": "1a_G1IhyfuUX",
        "outputId": "4847ee72-9038-4aae-d2b5-92bb89d61ce3"
      },
      "outputs": [],
      "source": [
        "%%bash \n",
        "\n",
        "gcc -Wall caster.c -o cas\n",
        "./cas"
      ]
    },
    {
      "cell_type": "markdown",
      "metadata": {
        "id": "uAYq1WaXgcpK"
      },
      "source": [
        "# Mixed Types\n",
        "Watch out!"
      ]
    },
    {
      "cell_type": "code",
      "execution_count": null,
      "metadata": {
        "colab": {
          "base_uri": "https://localhost:8080/"
        },
        "id": "DpnBWVHAfzLl",
        "outputId": "d22ce291-cbc0-4447-a398-aba719d11510"
      },
      "outputs": [],
      "source": [
        "%%writefile mt.c\n",
        "\n",
        "#include <stdio.h>\n",
        "\n",
        "\n",
        "int main()\n",
        "{\n",
        "  double x;\n",
        "  double y = 3;\n",
        "\n",
        "  x=1/2;\n",
        "  printf(\"x=1/2 => %f\\n\",x);\n",
        "  x=1.0/2;\n",
        "  printf(\"x=1.0/2 => %f\\n\",x);\n",
        "  x=1./2;\n",
        "  printf(\"x=1./2 => %f\\n\",x);\n",
        "  x=y/2;\n",
        "  printf(\"x=y/2 => %f\\n\",x);\n",
        "  x=(double)y/2;\n",
        "  printf(\"x=y/2 => %f\\n\",x);\n",
        "\n",
        "  return 0;\n",
        "\n",
        "}"
      ]
    },
    {
      "cell_type": "code",
      "execution_count": null,
      "metadata": {
        "colab": {
          "base_uri": "https://localhost:8080/"
        },
        "id": "WuimqPmAhcDa",
        "outputId": "e8e7336b-365b-4203-8d87-a0b5d2df3e84"
      },
      "outputs": [],
      "source": [
        "%%bash \n",
        "\n",
        "gcc -Wall mt.c -o mt\n",
        "./mt"
      ]
    },
    {
      "cell_type": "markdown",
      "metadata": {},
      "source": [
        "# Memory Access Operators\n",
        "\n",
        "Operator|Description|Example (x is a variable)\n",
        "---|:---:|---:\n",
        "& | Reference (Address of) | &x\n",
        "*| Indirection | *x\n",
        "sizeof | Size of object or type (in bytes) | sizeof x\n",
        "\n",
        "\n",
        "* All (non-register) variables are stored in system memory, and each memory location has a unique address.\n",
        "\n",
        "* The & operator returns the address of where an object is stored.\n",
        "    Example:\n",
        "    Suppose x is located at memory address 1024.\u000bThe 32-bit integer number 21 is stored there.\n"
      ]
    },
    {
      "cell_type": "code",
      "execution_count": null,
      "metadata": {},
      "outputs": [],
      "source": []
    },
    {
      "cell_type": "markdown",
      "metadata": {
        "id": "r8YDRSbxjdI4"
      },
      "source": [
        "# Functions\n",
        "---\n",
        "```c++\n",
        "// Program #2 Compute areas of triangles using\n",
        "// a custom-written function\n",
        "\n",
        "#include <stdio.h>\n",
        "\n",
        "\n",
        "int main (void)\n",
        "{\n",
        "  double b, h;  // base and height\n",
        "  double A1, A2;  // area\n",
        "\n",
        "  A1 = (3.0 * 1.5) / 2.0;\n",
        "  printf(\"Area1 = %f\\n\", A1);\n",
        "\n",
        "  b = 2.5; h = 15.4; \n",
        "  A2 = (b * h) / 2.0;\n",
        "  printf(\"Area2 = %f\\n\", A2);\n",
        "\n",
        "  b = 0.33; h = 5.7;\n",
        "  printf(\"Area3 = %f\\n\", (b * h) / 2.0);\n",
        "\n",
        "  return 0;\n",
        "}\n",
        "double triangle_area (double base, double height)\n",
        "{\n",
        "  return (base * height) / 2.0;\n",
        "}```"
      ]
    },
    {
      "cell_type": "code",
      "execution_count": null,
      "metadata": {
        "colab": {
          "base_uri": "https://localhost:8080/"
        },
        "id": "eWdFgwyAiSO-",
        "outputId": "1a637634-e709-43a6-8bbd-209e854b558a"
      },
      "outputs": [],
      "source": [
        "%%writefile func.c\n",
        "// Program #2 Compute areas of triangles using\n",
        "// a custom-written function\n",
        "\n",
        "#include <stdio.h>\n",
        "\n",
        "double triangle_area (double base, double height);\n",
        "\n",
        "int main (void)\n",
        "{\n",
        "  double b, h;  // base and height\n",
        "  double A1, A2;  // area\n",
        "\n",
        "  A1 = triangle_area(3.0, 1.5);\n",
        "  printf(\"Area1 = %f\\n\", A1);\n",
        "\n",
        "  b = 2.5; h = 15.4; A2 = triangle_area(b, h);\n",
        "  printf(\"Area2 = %f\\n\", A2);\n",
        "\n",
        "  b = 0.33; h = 5.7;\n",
        "  printf(\"Area3 = %f\\n\", triangle_area(b, h));\n",
        "\n",
        "  return 0;\n",
        "}\n",
        "double triangle_area (double base, double height)\n",
        "{\n",
        "  return (base * height) / 2.0;\n",
        "}"
      ]
    },
    {
      "cell_type": "code",
      "execution_count": null,
      "metadata": {
        "colab": {
          "base_uri": "https://localhost:8080/"
        },
        "id": "cECbWoSVkJ_b",
        "outputId": "6f46e6a0-f95f-4fe8-cd3a-c5c0396d3adf"
      },
      "outputs": [],
      "source": [
        "%%bash \n",
        "\n",
        "gcc -Wall func.c -o func1\n",
        "./func1"
      ]
    },
    {
      "cell_type": "code",
      "execution_count": null,
      "metadata": {
        "id": "IcLYBe_7kNSl"
      },
      "outputs": [],
      "source": []
    }
  ],
  "metadata": {
    "colab": {
      "authorship_tag": "ABX9TyPWQ/h+ZDhi9vXicNFV+NGh",
      "collapsed_sections": [],
      "include_colab_link": true,
      "name": "Operators_and_functions.ipynb",
      "provenance": []
    },
    "kernelspec": {
      "display_name": "Python 3",
      "name": "python3"
    },
    "language_info": {
      "name": "python"
    }
  },
  "nbformat": 4,
  "nbformat_minor": 0
}
