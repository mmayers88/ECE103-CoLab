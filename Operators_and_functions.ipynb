{
  "nbformat": 4,
  "nbformat_minor": 0,
  "metadata": {
    "colab": {
      "name": "Operators_and_functions.ipynb",
      "provenance": [],
      "collapsed_sections": [],
      "authorship_tag": "ABX9TyPWQ/h+ZDhi9vXicNFV+NGh",
      "include_colab_link": true
    },
    "kernelspec": {
      "name": "python3",
      "display_name": "Python 3"
    },
    "language_info": {
      "name": "python"
    }
  },
  "cells": [
    {
      "cell_type": "markdown",
      "metadata": {
        "id": "view-in-github",
        "colab_type": "text"
      },
      "source": [
        "<a href=\"https://colab.research.google.com/github/mmayers88/ECE103-CoLab/blob/main/Operators_and_functions.ipynb\" target=\"_parent\"><img src=\"https://colab.research.google.com/assets/colab-badge.svg\" alt=\"Open In Colab\"/></a>"
      ]
    },
    {
      "cell_type": "markdown",
      "source": [
        "#Operators"
      ],
      "metadata": {
        "id": "feB_vjiPV_3o"
      }
    },
    {
      "cell_type": "code",
      "execution_count": null,
      "metadata": {
        "colab": {
          "base_uri": "https://localhost:8080/"
        },
        "id": "1yZrrXOOVw5q",
        "outputId": "07a6457f-e4d3-49fb-b3a7-3b85b6e25d3c"
      },
      "outputs": [
        {
          "output_type": "stream",
          "name": "stdout",
          "text": [
            "Overwriting ops1.c\n"
          ]
        }
      ],
      "source": [
        "%%writefile ops1.c\n",
        "\n",
        "#include <stdio.h>\n",
        "\n",
        "int main()\n",
        "{\n",
        "  int x = 1;\n",
        "  int y = 0;\n",
        "  printf(\"x = 1 and y = 0\\n\");\n",
        "  printf(\"1 = TRUE and 0 = FALSE\\n\");\n",
        "  printf(\"=========================\\n\");\n",
        "  printf(\"x < y = %d\\n\", x < y);\n",
        "  printf(\"x > y = %d\\n\", x > y);\n",
        "  printf(\"x <= y = %d\\n\", x <= y);\n",
        "  printf(\"x >= y = %d\\n\", x >= y);\n",
        "  printf(\"!x = %d \\n\", !x);\n",
        "  printf(\"x == y = %d\\n\", x == y);\n",
        "  printf(\"x && y = %d\\n\", x && y);\n",
        "  printf(\"x || y = %d\\n\", x || y);\n",
        "\n",
        "  return 0;\n",
        "\n",
        "}"
      ]
    },
    {
      "cell_type": "code",
      "source": [
        "%%bash \n",
        "\n",
        "gcc -Wall ops1.c -o ops1\n",
        "./ops1"
      ],
      "metadata": {
        "colab": {
          "base_uri": "https://localhost:8080/"
        },
        "id": "NzVUyKLKWpf7",
        "outputId": "2f92604a-c686-4f40-fef1-8807ef593791"
      },
      "execution_count": null,
      "outputs": [
        {
          "output_type": "stream",
          "name": "stdout",
          "text": [
            "x = 1 and y = 0\n",
            "1 = TRUE and 0 = FALSE\n",
            "=========================\n",
            "x < y = 0\n",
            "x > y = 1\n",
            "x <= y = 0\n",
            "x >= y = 1\n",
            "!x = 0 \n",
            "x == y = 0\n",
            "x && y = 0\n",
            "x && y = 1\n"
          ]
        }
      ]
    },
    {
      "cell_type": "code",
      "source": [
        "%%writefile ops2.c\n",
        "\n",
        "#include <stdio.h>\n",
        "#include <math.h> //math\n",
        "\n",
        "\n",
        "int main()\n",
        "{\n",
        "  double x;\n",
        "  double w;\n",
        "  int t1;\n",
        "  int t2;\n",
        "\n",
        "  w = 5 + sin(3.14);\n",
        "  x = 123 - (10*w);\n",
        "  t1 = w >= 5;\n",
        "  t2 = x > 0 && w < 5;\n",
        "\n",
        "  printf(\"%f %f %d %d\", w, x, t1, t2);\n",
        "\n",
        "  return 0;\n",
        "\n",
        "}"
      ],
      "metadata": {
        "colab": {
          "base_uri": "https://localhost:8080/"
        },
        "id": "FIIHQ56TXLXp",
        "outputId": "18c31872-0b09-4f7b-9094-01d3d200de89"
      },
      "execution_count": null,
      "outputs": [
        {
          "output_type": "stream",
          "name": "stdout",
          "text": [
            "Overwriting ops2.c\n"
          ]
        }
      ]
    },
    {
      "cell_type": "code",
      "source": [
        "%%bash \n",
        "\n",
        "gcc -Wall ops2.c -o ops2\n",
        "./ops2"
      ],
      "metadata": {
        "colab": {
          "base_uri": "https://localhost:8080/"
        },
        "id": "0ozjk2-1cAfP",
        "outputId": "22d4583a-0142-4586-e701-abd1e6e9011f"
      },
      "execution_count": null,
      "outputs": [
        {
          "output_type": "stream",
          "name": "stdout",
          "text": [
            "5.001593 72.984073 1 0"
          ]
        }
      ]
    },
    {
      "cell_type": "code",
      "source": [
        "%%writefile ops3.c\n",
        "\n",
        "#include <stdio.h>\n",
        "#include <math.h> //math\n",
        "\n",
        "\n",
        "int main()\n",
        "{\n",
        "  int x = 0;\n",
        "\n",
        "  printf(\"x = %d\\n\",x++);\n",
        "  printf(\"x = %d\\n\",++x);\n",
        "  printf(\"x = %d\\n\",x--);\n",
        "  printf(\"x = %d\\n\",--x);\n",
        "\n",
        "  return 0;\n",
        "\n",
        "}"
      ],
      "metadata": {
        "colab": {
          "base_uri": "https://localhost:8080/"
        },
        "id": "7plpmDYlcCwu",
        "outputId": "398c363b-614c-4815-d51a-656bb839d370"
      },
      "execution_count": null,
      "outputs": [
        {
          "output_type": "stream",
          "name": "stdout",
          "text": [
            "Overwriting ops3.c\n"
          ]
        }
      ]
    },
    {
      "cell_type": "code",
      "source": [
        "%%bash \n",
        "\n",
        "gcc -Wall ops3.c -o ops3\n",
        "./ops3"
      ],
      "metadata": {
        "colab": {
          "base_uri": "https://localhost:8080/"
        },
        "id": "Z5P7KDQHdSFJ",
        "outputId": "9c3dcb1e-e2ba-45ac-c717-302025c7d079"
      },
      "execution_count": null,
      "outputs": [
        {
          "output_type": "stream",
          "name": "stdout",
          "text": [
            "x = 0\n",
            "x = 2\n",
            "x = 2\n",
            "x = 0\n"
          ]
        }
      ]
    },
    {
      "cell_type": "code",
      "source": [
        "%%writefile ops4.c\n",
        "\n",
        "#include <stdio.h>\n",
        "#include <math.h> //math\n",
        "\n",
        "\n",
        "int main()\n",
        "{\n",
        "  int x = 1;\n",
        "\n",
        "  printf(\"x = %d\\n\",x);\n",
        "  printf(\"x = x + 1\\n\");\n",
        "  x = x + 1;\n",
        "  printf(\"x = %d\\n\",x);\n",
        "\n",
        "  printf(\"========add=============\\n\");\n",
        "  printf(\"x = %d\\n\",x);\n",
        "  printf(\"x += 1 \\n\");\n",
        "  x += 1;\n",
        "  printf(\"x = %d\\n\",x);\n",
        "\n",
        "\n",
        "\n",
        "  printf(\"========sub=============\\n\");\n",
        "  printf(\"x = %d\\n\",x);\n",
        "  printf(\"x -= 1 \\n\");\n",
        "  x -= 1;\n",
        "  printf(\"x = %d\\n\",x);\n",
        "  printf(\"========mul=============\\n\");\n",
        "  printf(\"x = %d\\n\",x);\n",
        "  printf(\"x *= 2 \\n\");\n",
        "  x *= 2;\n",
        "  printf(\"x = %d\\n\",x);\n",
        "  printf(\"========div=============\\n\");\n",
        "  printf(\"x = %d\\n\",x);\n",
        "  printf(\"x /= 2 \\n\");\n",
        "  x /= 2;\n",
        "  printf(\"x = %d\\n\",x);\n",
        "  return 0;\n",
        "\n",
        "}"
      ],
      "metadata": {
        "colab": {
          "base_uri": "https://localhost:8080/"
        },
        "id": "I-RdiQ1QdULm",
        "outputId": "da4f6364-9f6d-43ab-f4c2-45a1fd0db56c"
      },
      "execution_count": null,
      "outputs": [
        {
          "output_type": "stream",
          "name": "stdout",
          "text": [
            "Overwriting ops4.c\n"
          ]
        }
      ]
    },
    {
      "cell_type": "code",
      "source": [
        "%%bash \n",
        "\n",
        "gcc -Wall ops4.c -o ops4\n",
        "./ops4"
      ],
      "metadata": {
        "colab": {
          "base_uri": "https://localhost:8080/"
        },
        "id": "lEUFB4qCdowm",
        "outputId": "4b9dadf8-9d07-4c17-ba7f-d2f325e576e0"
      },
      "execution_count": null,
      "outputs": [
        {
          "output_type": "stream",
          "name": "stdout",
          "text": [
            "x = 1\n",
            "x = x + 1\n",
            "x = 2\n",
            "========add=============\n",
            "x = 2\n",
            "x += 1 \n",
            "x = 3\n",
            "========sub=============\n",
            "x = 3\n",
            "x -= 1 \n",
            "x = 2\n",
            "========mul=============\n",
            "x = 2\n",
            "x *= 2 \n",
            "x = 4\n",
            "========div=============\n",
            "x = 4\n",
            "x /= 2 \n",
            "x = 2\n"
          ]
        }
      ]
    },
    {
      "cell_type": "markdown",
      "source": [
        "#Casting\n",
        "changing types"
      ],
      "metadata": {
        "id": "lqSmGH0ze9iz"
      }
    },
    {
      "cell_type": "code",
      "source": [
        "%%writefile caster.c\n",
        "\n",
        "#include <stdio.h>\n",
        "\n",
        "\n",
        "int main()\n",
        "{\n",
        "  char x = 'A';\n",
        "  int y1;\n",
        "  int y2;\n",
        "\n",
        "  printf(\"y1 = x\\n\");\n",
        "  y1 = x;\n",
        "  printf(\"y1 = %d\\n\", y1);\n",
        "  printf(\"=========================\\n\");\n",
        "  printf(\"y2 = (int)x\\n\");\n",
        "  y2 = (int)x;\n",
        "  printf(\"y2 = %d\\n\", y2);\n",
        "\n",
        "\n",
        "  return 0;\n",
        "\n",
        "}"
      ],
      "metadata": {
        "colab": {
          "base_uri": "https://localhost:8080/"
        },
        "id": "5C0PRWgEd8I_",
        "outputId": "ce418fa8-2b74-412d-8060-97a63f42171a"
      },
      "execution_count": null,
      "outputs": [
        {
          "output_type": "stream",
          "name": "stdout",
          "text": [
            "Writing caster.c\n"
          ]
        }
      ]
    },
    {
      "cell_type": "code",
      "source": [
        "%%bash \n",
        "\n",
        "gcc -Wall caster.c -o cas\n",
        "./cas"
      ],
      "metadata": {
        "colab": {
          "base_uri": "https://localhost:8080/"
        },
        "id": "1a_G1IhyfuUX",
        "outputId": "4847ee72-9038-4aae-d2b5-92bb89d61ce3"
      },
      "execution_count": null,
      "outputs": [
        {
          "output_type": "stream",
          "name": "stdout",
          "text": [
            "y1 = x\n",
            "y1 = 65\n",
            "=========================\n",
            "y2 = (int)x\n",
            "y2 = 65\n"
          ]
        }
      ]
    },
    {
      "cell_type": "markdown",
      "source": [
        "#Mixed Types\n",
        "Watch out!"
      ],
      "metadata": {
        "id": "uAYq1WaXgcpK"
      }
    },
    {
      "cell_type": "code",
      "source": [
        "%%writefile mt.c\n",
        "\n",
        "#include <stdio.h>\n",
        "\n",
        "\n",
        "int main()\n",
        "{\n",
        "  double x;\n",
        "  double y = 3;\n",
        "\n",
        "  x=1/2;\n",
        "  printf(\"x=1/2 => %f\\n\",x);\n",
        "  x=1.0/2;\n",
        "  printf(\"x=1.0/2 => %f\\n\",x);\n",
        "  x=1./2;\n",
        "  printf(\"x=1./2 => %f\\n\",x);\n",
        "  x=y/2;\n",
        "  printf(\"x=y/2 => %f\\n\",x);\n",
        "  x=(double)y/2;\n",
        "  printf(\"x=y/2 => %f\\n\",x);\n",
        "\n",
        "  return 0;\n",
        "\n",
        "}"
      ],
      "metadata": {
        "colab": {
          "base_uri": "https://localhost:8080/"
        },
        "id": "DpnBWVHAfzLl",
        "outputId": "d22ce291-cbc0-4447-a398-aba719d11510"
      },
      "execution_count": null,
      "outputs": [
        {
          "output_type": "stream",
          "name": "stdout",
          "text": [
            "Overwriting mt.c\n"
          ]
        }
      ]
    },
    {
      "cell_type": "code",
      "source": [
        "%%bash \n",
        "\n",
        "gcc -Wall mt.c -o mt\n",
        "./mt"
      ],
      "metadata": {
        "colab": {
          "base_uri": "https://localhost:8080/"
        },
        "id": "WuimqPmAhcDa",
        "outputId": "e8e7336b-365b-4203-8d87-a0b5d2df3e84"
      },
      "execution_count": null,
      "outputs": [
        {
          "output_type": "stream",
          "name": "stdout",
          "text": [
            "x=1/2 => 0.000000\n",
            "x=1.0/2 => 0.500000\n",
            "x=1./2 => 0.500000\n",
            "x=y/2 => 1.500000\n",
            "x=y/2 => 1.500000\n"
          ]
        }
      ]
    },
    {
      "cell_type": "markdown",
      "source": [
        "#Functions"
      ],
      "metadata": {
        "id": "r8YDRSbxjdI4"
      }
    },
    {
      "cell_type": "code",
      "source": [
        "%%writefile func.c\n",
        "// Program #2 Compute areas of triangles using\n",
        "// a custom-written function\n",
        "\n",
        "#include <stdio.h>\n",
        "\n",
        "double triangle_area (double base, double height);\n",
        "\n",
        "int main (void)\n",
        "{\n",
        "  double b, h;  // base and height\n",
        "  double A1, A2;  // area\n",
        "\n",
        "  A1 = triangle_area(3.0, 1.5);\n",
        "  printf(\"Area1 = %f\\n\", A1);\n",
        "\n",
        "  b = 2.5; h = 15.4; A2 = triangle_area(b, h);\n",
        "  printf(\"Area2 = %f\\n\", A2);\n",
        "\n",
        "  b = 0.33; h = 5.7;\n",
        "  printf(\"Area3 = %f\\n\", triangle_area(b, h));\n",
        "\n",
        "  return 0;\n",
        "}\n",
        "double triangle_area (double base, double height)\n",
        "{\n",
        "  return (base * height) / 2.0;\n",
        "}"
      ],
      "metadata": {
        "colab": {
          "base_uri": "https://localhost:8080/"
        },
        "id": "eWdFgwyAiSO-",
        "outputId": "1a637634-e709-43a6-8bbd-209e854b558a"
      },
      "execution_count": null,
      "outputs": [
        {
          "output_type": "stream",
          "name": "stdout",
          "text": [
            "Overwriting func.c\n"
          ]
        }
      ]
    },
    {
      "cell_type": "code",
      "source": [
        "%%bash \n",
        "\n",
        "gcc -Wall func.c -o func1\n",
        "./func1"
      ],
      "metadata": {
        "colab": {
          "base_uri": "https://localhost:8080/"
        },
        "id": "cECbWoSVkJ_b",
        "outputId": "6f46e6a0-f95f-4fe8-cd3a-c5c0396d3adf"
      },
      "execution_count": null,
      "outputs": [
        {
          "output_type": "stream",
          "name": "stdout",
          "text": [
            "Area1 = 2.250000\n",
            "Area2 = 19.250000\n",
            "Area3 = 0.940500\n"
          ]
        }
      ]
    },
    {
      "cell_type": "code",
      "source": [
        ""
      ],
      "metadata": {
        "id": "IcLYBe_7kNSl"
      },
      "execution_count": null,
      "outputs": []
    }
  ]
}