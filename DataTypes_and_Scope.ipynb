{
  "nbformat": 4,
  "nbformat_minor": 0,
  "metadata": {
    "colab": {
      "name": "DataTypes_and_Scope.ipynb",
      "provenance": [],
      "collapsed_sections": [],
      "authorship_tag": "ABX9TyM1OgXU92dhlOUpQzRm4/b1",
      "include_colab_link": true
    },
    "kernelspec": {
      "name": "python3",
      "display_name": "Python 3"
    },
    "language_info": {
      "name": "python"
    }
  },
  "cells": [
    {
      "cell_type": "markdown",
      "metadata": {
        "id": "view-in-github",
        "colab_type": "text"
      },
      "source": [
        "<a href=\"https://colab.research.google.com/github/mmayers88/ECE103-CoLab/blob/main/DataTypes_and_Scope.ipynb\" target=\"_parent\"><img src=\"https://colab.research.google.com/assets/colab-badge.svg\" alt=\"Open In Colab\"/></a>"
      ]
    },
    {
      "cell_type": "markdown",
      "source": [
        "#Variable Types\n",
        "\n",
        "##ints\n",
        "* sizesof() returns size in bytes (8 bits)\n",
        "  * 8 bits $ : 0_{10} \\Rightarrow 255_{10}$\n",
        "  * 8 bits $ : \\mathrm{0x00} \\Rightarrow \\mathrm{0xff}$\n",
        "  * 8 bits $ : \\mathrm{0b00000000} \\Rightarrow \\mathrm{0b11111111}$"
      ],
      "metadata": {
        "id": "shKQI31FqOHI"
      }
    },
    {
      "cell_type": "code",
      "source": [
        "%%writefile ints.c\n",
        "#include <stdio.h>\n",
        "\n",
        "int main()\n",
        "{\n",
        "  // declaring variables\n",
        "  int x = -1;\n",
        "  short int xs = -1;\n",
        "  long int xl = -1;\n",
        "  unsigned int xu = -1;\n",
        "  unsigned short int xus = -1;\n",
        "  unsigned long int xul = -1;\n",
        "  \n",
        "  //printing size of variables\n",
        "  printf(\"size of int: %ld and contains: %d\\n\", sizeof(x), x);\n",
        "  printf(\"size of short int: %ld and contains: %d\\n\", sizeof(xs), xs);\n",
        "  printf(\"size of long int: %ld and contains: %ld\\n\", sizeof(xl), xl);\n",
        "  printf(\"size of unsigned int: %ld and contains: %x\\n\", sizeof(xu), xu);\n",
        "  printf(\"size of unsigned short int: %ld and contains: %x\\n\", sizeof(xus), xus);\n",
        "  printf(\"size of unsigned long int: %ld and contains: %lx\\n\", sizeof(xul), xul);\n",
        "  \n",
        "\n",
        "  return 0;\n",
        "}"
      ],
      "metadata": {
        "id": "OXycajT6qZXr"
      },
      "execution_count": null,
      "outputs": []
    },
    {
      "cell_type": "code",
      "source": [
        "%%bash \n",
        "\n",
        "gcc -Wall ints.c -o ints\n",
        "./ints"
      ],
      "metadata": {
        "id": "Q9TVMPi3raDx"
      },
      "execution_count": null,
      "outputs": []
    },
    {
      "cell_type": "markdown",
      "source": [
        "# Other int representation\n",
        "* oct\n",
        "* hex"
      ],
      "metadata": {
        "id": "ayLML5Z54sSQ"
      }
    },
    {
      "cell_type": "code",
      "source": [
        "%%writefile ints2.c\n",
        "#include <stdio.h>\n",
        "\n",
        "int main()\n",
        "{\n",
        "  // declaring variables\n",
        "  int x = 10;\n",
        "  int xo = 010;\n",
        "  int xx = 0x10;\n",
        "  \n",
        "  \n",
        "  //printing size of variables\n",
        "  printf(\"\\ndec:\\n\");\n",
        "  printf(\"size of int: %ld and contains: %d\\n\", sizeof(x), x);\n",
        "  printf(\"size of int: %ld and contains: %d\\n\", sizeof(xo), xo);\n",
        "  printf(\"size of int: %ld and contains: %d\\n\", sizeof(xx), xx);\n",
        "  \n",
        "  printf(\"\\nhex:\\n\");\n",
        "  printf(\"size of int: %ld and contains: %x\\n\", sizeof(x), x);\n",
        "  printf(\"size of int: %ld and contains: %x\\n\", sizeof(xo), xo);\n",
        "  printf(\"size of int: %ld and contains: %x\\n\", sizeof(xx), xx);\n",
        "\n",
        "  return 0;\n",
        "}"
      ],
      "metadata": {
        "id": "_PVLMVjU41Xf"
      },
      "execution_count": null,
      "outputs": []
    },
    {
      "cell_type": "code",
      "source": [
        "%%bash \n",
        "\n",
        "gcc -Wall ints2.c -o ints2\n",
        "./ints2"
      ],
      "metadata": {
        "id": "pl6IeX1V4474"
      },
      "execution_count": null,
      "outputs": []
    },
    {
      "cell_type": "markdown",
      "source": [
        "## Bools\n",
        "* True or False\n",
        "* 1 or 0\n",
        "\n",
        "This is the manual way"
      ],
      "metadata": {
        "id": "d3v0vMp9uTSo"
      }
    },
    {
      "cell_type": "code",
      "source": [
        "%%writefile bools.c\n",
        "#include <stdio.h>\n",
        "\n",
        "#define TRUE 1\n",
        "#define FALSE 0\n",
        "\n",
        "int main()\n",
        "{\n",
        "  // declaring variables\n",
        "  int State = TRUE;\n",
        "  \n",
        "  //printing size of variables\n",
        "  printf(\"size of State: %ld and contains: %d\\n\", sizeof(State), State);\n",
        "  printf(\"size of TRUE: %ld and contains: %d\\n\", sizeof(TRUE), TRUE);\n",
        "  \n",
        "\n",
        "  return 0;\n",
        "}"
      ],
      "metadata": {
        "id": "wJpGNGpvuag5"
      },
      "execution_count": null,
      "outputs": []
    },
    {
      "cell_type": "code",
      "source": [
        "%%bash \n",
        "\n",
        "gcc -Wall bools.c -o bools\n",
        "./bools"
      ],
      "metadata": {
        "id": "LILljTtUu4ts"
      },
      "execution_count": null,
      "outputs": []
    },
    {
      "cell_type": "markdown",
      "source": [
        "## Bools\n",
        " better way"
      ],
      "metadata": {
        "id": "M8a4QTr5vSgO"
      }
    },
    {
      "cell_type": "code",
      "source": [
        "%%writefile bools2.c\n",
        "#include <stdio.h>\n",
        "\n",
        "\n",
        "int main()\n",
        "{\n",
        "  // declaring variables\n",
        "  _Bool State = 1;\n",
        "  \n",
        "  //printing size of variables\n",
        "  printf(\"size of State: %ld and contains: %d\\n\", sizeof(State), State);\n",
        "  \n",
        "\n",
        "  return 0;\n",
        "}"
      ],
      "metadata": {
        "id": "Jp086APkvXfc"
      },
      "execution_count": null,
      "outputs": []
    },
    {
      "cell_type": "code",
      "source": [
        "%%bash \n",
        "\n",
        "gcc -Wall bools2.c -o bools2\n",
        "./bools2"
      ],
      "metadata": {
        "id": "nBk93S2HvXTf"
      },
      "execution_count": null,
      "outputs": []
    },
    {
      "cell_type": "markdown",
      "source": [
        "## Bools \n",
        "Best way; with library"
      ],
      "metadata": {
        "id": "pMMLmrEXvyPN"
      }
    },
    {
      "cell_type": "code",
      "source": [
        "%%writefile bools3.c\n",
        "#include <stdio.h>\n",
        "#include <stdbool.h>\n",
        "\n",
        "int main()\n",
        "{\n",
        "  // declaring variables\n",
        "  bool State = true;\n",
        "  \n",
        "  //printing size of variables\n",
        "  printf(\"size of State: %ld and contains: %d\\n\", sizeof(State), State);\n",
        "  \n",
        "\n",
        "  return 0;\n",
        "}"
      ],
      "metadata": {
        "id": "mM1tAt7rvxqM"
      },
      "execution_count": null,
      "outputs": []
    },
    {
      "cell_type": "code",
      "source": [
        "%%bash \n",
        "\n",
        "gcc -Wall bools3.c -o bools3\n",
        "./bools3"
      ],
      "metadata": {
        "id": "Ksl385kIvxiI"
      },
      "execution_count": null,
      "outputs": []
    },
    {
      "cell_type": "markdown",
      "source": [
        "#Chars\n",
        "* characters\n",
        "* usually 8 bits\n",
        "  * -128 to 127\n",
        "  * unsigned : 0 to 255\n",
        "\n",
        "[Ascii Table](https://commons.wikimedia.org/wiki/File:ASCII-Table.svg)\n",
        "\n",
        "### Other characters (control characters)\n",
        "* '\\n' is a newline\n",
        "* '\\r' carriage return\n",
        "* '\\t' tab\n",
        "* '\\0' NULL\n",
        "\n",
        "[Control Signals](https://en.wikipedia.org/wiki/Control_character)\n"
      ],
      "metadata": {
        "id": "H_ReM387wyEW"
      }
    },
    {
      "cell_type": "code",
      "source": [
        "%%writefile chars.c\n",
        "#include <stdio.h>\n",
        "\n",
        "int main()\n",
        "{\n",
        "  // declaring variables\n",
        "  char c = 'a';\n",
        "  int x = 97;\n",
        "  int x2 = 256;\n",
        "  \n",
        "  //printing size of variables\n",
        "  printf(\"size of char: %ld and contains: %c\\n\", sizeof(c), c);\n",
        "  printf(\"size of char: %ld and contains: %x\\n\", sizeof(c), c);\n",
        "  printf(\"size of char: %ld and contains: %d\\n\", sizeof(c), c);\n",
        "  \n",
        "  printf(\"size of int: %ld and contains: %c\\n\", sizeof(x), x);\n",
        "  printf(\"size of int: %ld and contains: %x\\n\", sizeof(x), x);\n",
        "  printf(\"size of int: %ld and contains: %d\\n\", sizeof(x), x);\n",
        "\n",
        "\n",
        "  printf(\"\\nBreaking the Law\\n\");\n",
        "  printf(\"size of int: %ld and contains: %c\\n\", sizeof(x2), x2);\n",
        "  printf(\"size of int: %ld and contains: %x\\n\", sizeof(x2), x2);\n",
        "  printf(\"size of int: %ld and contains: %d\\n\", sizeof(x2), x2);\n",
        "  return 0;\n",
        "}"
      ],
      "metadata": {
        "id": "2m5Z5Stl0xMT"
      },
      "execution_count": null,
      "outputs": []
    },
    {
      "cell_type": "code",
      "source": [
        "%%bash \n",
        "\n",
        "gcc -Wall chars.c -o chars\n",
        "./chars"
      ],
      "metadata": {
        "id": "ctmP9RoV1CD-"
      },
      "execution_count": null,
      "outputs": []
    },
    {
      "cell_type": "markdown",
      "source": [
        "#Variable Declaration\n",
        "* Declaring Variables\n",
        "* Printing Out sizes"
      ],
      "metadata": {
        "id": "mlPv_VONafCQ"
      }
    },
    {
      "cell_type": "code",
      "execution_count": null,
      "metadata": {
        "id": "y3BG0lGWZabG"
      },
      "outputs": [],
      "source": [
        "%%writefile variables.c\n",
        "#include <stdio.h>\n",
        "\n",
        "int main()\n",
        "{\n",
        "  // declaring variables\n",
        "  int x = 1;\n",
        "  float f = 1.0;\n",
        "  double d = 1.0e-3;\n",
        "  char c = 'c';\n",
        "  \n",
        "  //printing size of variables\n",
        "  printf(\"size of int: %ld and contains: %d\\n\", sizeof(x), x);\n",
        "  printf(\"size of float: %ld and contains: %f \\n\", sizeof(f), f);\n",
        "  printf(\"size of double: %ld and contains: %lf \\n\", sizeof(d), d);\n",
        "  printf(\"size of char: %ld and contains: %c \\n\", sizeof(c), c);\n",
        "\n",
        "  return 0;\n",
        "}"
      ]
    },
    {
      "cell_type": "code",
      "source": [
        "%%bash \n",
        "\n",
        "gcc -Wall variables.c -o var\n",
        "./var"
      ],
      "metadata": {
        "id": "aKre4s5QbaAK"
      },
      "execution_count": null,
      "outputs": []
    },
    {
      "cell_type": "markdown",
      "source": [
        "##Variables can be assigned a value after definition"
      ],
      "metadata": {
        "id": "VioKJXLPexBR"
      }
    },
    {
      "cell_type": "code",
      "source": [
        "%%writefile variables2.c\n",
        "#include <stdio.h>\n",
        "\n",
        "int main()\n",
        "{\n",
        "  // declaring variables\n",
        "  int x;\n",
        "  x = 1;\n",
        "  float f;\n",
        "  f = 1.0;\n",
        "  double d;\n",
        "  d = 1.0;\n",
        "  char c;\n",
        "  c = 'c';\n",
        "  \n",
        "  //printing size of variables\n",
        "  printf(\"size of int: %ld and contains: %d\\n\", sizeof(x), x);\n",
        "  printf(\"size of float: %ld and contains: %f \\n\", sizeof(f), f);\n",
        "  printf(\"size of double: %ld and contains: %lf \\n\", sizeof(d), d);\n",
        "  printf(\"size of char: %ld and contains: %c \\n\", sizeof(c), c);\n",
        "\n",
        "  return 0;\n",
        "}"
      ],
      "metadata": {
        "id": "DGEW66lCbhbZ"
      },
      "execution_count": null,
      "outputs": []
    },
    {
      "cell_type": "markdown",
      "source": [
        "###Same output as before!"
      ],
      "metadata": {
        "id": "LJ-yK1Cze__n"
      }
    },
    {
      "cell_type": "code",
      "source": [
        "%%bash \n",
        "\n",
        "gcc -Wall variables2.c -o var2\n",
        "./var2"
      ],
      "metadata": {
        "id": "5NFFY1PjdZ8k"
      },
      "execution_count": null,
      "outputs": []
    },
    {
      "cell_type": "markdown",
      "source": [
        "##Variables can be defined anywhere in block of code\n",
        "* for readability; variables should be defined at the top\n",
        "\n",
        "Below is an example of variables initialized in other spots"
      ],
      "metadata": {
        "id": "LyVffmexfN0j"
      }
    },
    {
      "cell_type": "code",
      "source": [
        "%%writefile variables3.c\n",
        "#include <stdio.h>\n",
        "\n",
        "int main()\n",
        "{\n",
        "  int x;\n",
        "  x = 1;\n",
        "  \n",
        "  printf(\"size of int: %ld and contains: %d\\n\", sizeof(x), x);\n",
        "  float f;\n",
        "  f = 1.0;\n",
        "  \n",
        "  printf(\"size of float: %ld and contains: %f \\n\", sizeof(f), f);\n",
        "  double d;\n",
        "  d = 1.0;\n",
        "\n",
        "  printf(\"size of double: %ld and contains: %lf \\n\", sizeof(d), d);\n",
        "  char c;\n",
        "  c = 'c';\n",
        "  printf(\"size of char: %ld and contains: %c \\n\", sizeof(c), c);\n",
        "\n",
        "  return 0;\n",
        "}"
      ],
      "metadata": {
        "id": "KHg2MLeTdgXs"
      },
      "execution_count": null,
      "outputs": []
    },
    {
      "cell_type": "code",
      "source": [
        "%%bash \n",
        "\n",
        "gcc -Wall variables3.c -o var3\n",
        "./var3"
      ],
      "metadata": {
        "id": "D5D9HthPfo54"
      },
      "execution_count": null,
      "outputs": []
    },
    {
      "cell_type": "markdown",
      "source": [
        "#Const\n",
        "* Const variables can not be changed\n",
        "* trying to change will result in an error\n",
        "* common convention is writing variable name in all caps\n",
        "\n",
        ">const int PI = 3.14;\n",
        "\n",
        ">const in EULER = 2.718281828;"
      ],
      "metadata": {
        "id": "0anK3L28gHXf"
      }
    },
    {
      "cell_type": "code",
      "source": [
        "%%writefile const_fail.c\n",
        "#include <stdio.h>\n",
        "\n",
        "int main()\n",
        "{\n",
        "  // declaring variables\n",
        "  const double PI =   3.141592653;\n",
        "  const double EULER = 2.718281828;\n",
        "  EULER = 3;\n",
        "  PI = 3;\n",
        "  \n",
        "  //printing size of variables\n",
        "  printf(\"%lf\", PI);\n",
        "  printf(\"%lf\", EULER);\n",
        "\n",
        "  return 0;\n",
        "}"
      ],
      "metadata": {
        "id": "KUaza7BwgXiS"
      },
      "execution_count": null,
      "outputs": []
    },
    {
      "cell_type": "markdown",
      "source": [
        "## **This will Fail**\n",
        "* unless you comment out:\n",
        "\n",
        ">EULER = 3;\n",
        "\n",
        ">PI = 3;"
      ],
      "metadata": {
        "id": "sPIRbHSSo-gC"
      }
    },
    {
      "cell_type": "code",
      "source": [
        "%%bash \n",
        "\n",
        "gcc -Wall const_fail.c -o cf\n",
        "./cf"
      ],
      "metadata": {
        "id": "T05nvlm9hqWW"
      },
      "execution_count": null,
      "outputs": []
    },
    {
      "cell_type": "markdown",
      "source": [
        "#Scope"
      ],
      "metadata": {
        "id": "5DI6yO2-iDC9"
      }
    },
    {
      "cell_type": "code",
      "source": [
        "%%writefile scope1.c\n",
        "#include <stdio.h>\n",
        "\n",
        "// All variables in the same scope\n",
        "int main (void)\n",
        "{\n",
        "  int x, y;\n",
        " \n",
        "  x = 2;\n",
        "  y = 3 * x;\n",
        " \n",
        "  printf(\"A: %d %d\\n\", x, y);\n",
        " \n",
        "  x = 4;\n",
        "  y = 3 * x;\n",
        " \n",
        "  printf(\"B: %d %d\\n\", x, y);\n",
        "  \n",
        "  printf(\"C: %d %d\\n\", x, y);\n",
        "  return 0;\n",
        "}"
      ],
      "metadata": {
        "id": "-GC7gDTXhvIx"
      },
      "execution_count": null,
      "outputs": []
    },
    {
      "cell_type": "code",
      "source": [
        "%%bash \n",
        "\n",
        "gcc -Wall scope1.c -o scope1\n",
        "./scope1"
      ],
      "metadata": {
        "id": "XrPOlNzpi_5d"
      },
      "execution_count": null,
      "outputs": []
    },
    {
      "cell_type": "markdown",
      "source": [
        "### Notice:\n",
        "* x changes back to 2 \n",
        "* in the main scope, x was never changed"
      ],
      "metadata": {
        "id": "autOSQeZojel"
      }
    },
    {
      "cell_type": "code",
      "source": [
        "%%writefile scope2.c\n",
        "#include <stdio.h>\n",
        "\n",
        "// All variables in the same scope\n",
        "int main (void)\n",
        "{\n",
        "  int x, y;\n",
        " \n",
        "  x = 2;\n",
        "  y = 3 * x;\n",
        " \n",
        "  printf(\"A: %d %d\\n\", x, y);\n",
        "  {\n",
        "    int x;\n",
        "    x = 4;\n",
        "    y = 3 * x;\n",
        " \n",
        "    printf(\"B: %d %d\\n\", x, y);\n",
        "  }\n",
        "  printf(\"C: %d %d\\n\", x, y);\n",
        "  return 0;\n",
        "}"
      ],
      "metadata": {
        "id": "E42vx5EejFMm"
      },
      "execution_count": null,
      "outputs": []
    },
    {
      "cell_type": "code",
      "source": [
        "%%bash \n",
        "\n",
        "gcc -Wall scope2.c -o scope2\n",
        "./scope2"
      ],
      "metadata": {
        "id": "NzQRxr7cjKxX"
      },
      "execution_count": null,
      "outputs": []
    },
    {
      "cell_type": "markdown",
      "source": [
        "### More Scope Magic"
      ],
      "metadata": {
        "id": "SEnb7ZWQo4LV"
      }
    },
    {
      "cell_type": "code",
      "source": [
        "%%writefile scope3.c\n",
        "#include <stdio.h>\n",
        "\n",
        "// Scope depends on block\n",
        "int main (void)\n",
        "{\n",
        "  int x = 1, y = 10;\n",
        "\n",
        "  printf(\"A: %d %d\\n\", x, y);\n",
        "  \n",
        "  {\n",
        "    int x = 3;\n",
        "\n",
        "    printf(\"B: %d %d\\n\", x, y);\n",
        "    x = 5; y = 20;\n",
        "    printf(\"C: %d %d\\n\", x, y);\n",
        "\n",
        "    {\n",
        "      int x = 7;\n",
        "      printf(\"D: %d %d\\n\", x, y);\n",
        "      y = 30;\n",
        "      printf(\"E: %d %d\\n\", x, y);\n",
        "    }\n",
        "\n",
        "    printf(\"F: %d %d\\n\", x, y);\n",
        "  }\n",
        "  printf(\"G: %d %d\\n\", x, y);\n",
        "  return 0;\n",
        "}\n"
      ],
      "metadata": {
        "id": "YaHArOW_jdQ2"
      },
      "execution_count": null,
      "outputs": []
    },
    {
      "cell_type": "code",
      "source": [
        "%%bash \n",
        "\n",
        "gcc -Wall scope3.c -o scope3\n",
        "./scope3"
      ],
      "metadata": {
        "id": "kSIzSI1tjwYU"
      },
      "execution_count": null,
      "outputs": []
    },
    {
      "cell_type": "markdown",
      "source": [
        "#Global Variables\n",
        "* try not to use\n",
        "* easily abused, because it can be changed anywhere\n",
        "* Use may result in points taken away"
      ],
      "metadata": {
        "id": "O81_GbgfktDD"
      }
    },
    {
      "cell_type": "code",
      "source": [
        "%%writefile globe.c\n",
        "#include <stdio.h>\n",
        "\n",
        "int x = 99; // Global\n",
        "\n",
        "int main (void)\n",
        "{\n",
        "  printf(\"A: %d\\n\", x);\n",
        "\n",
        "  x = 42;\n",
        "  printf(\"B: %d\\n\", x);\n",
        "\n",
        "  {\n",
        "    int x = 128; // Local to block\n",
        "    printf(\"C: %d\\n\", x);\n",
        "  }\n",
        "\n",
        "  printf(\"D: %d\\n\", x);\n",
        "\n",
        "  int x = 33; // Local to main\n",
        "  printf(\"E: %d\\n\", x);\n",
        "\n",
        "  return 0;\n",
        "}\n"
      ],
      "metadata": {
        "id": "jda9fXMLjy37"
      },
      "execution_count": null,
      "outputs": []
    },
    {
      "cell_type": "code",
      "source": [
        "%%bash \n",
        "\n",
        "gcc -Wall globe.c -o globe\n",
        "./globe"
      ],
      "metadata": {
        "id": "p3JkT9qJlPuM"
      },
      "execution_count": null,
      "outputs": []
    },
    {
      "cell_type": "markdown",
      "source": [
        "#Coding Conventions & Structure\n",
        "\n",
        "* **Please Use**:\n",
        "  * Title Blocks\n",
        "  * Function Blocks\n",
        "  * Allman Bracing\n",
        "  * Indent nested code\n",
        "    * Use TAB equal to 4 spaces or 4 spaces\n",
        "  * Declare Constant variables using const or as macros\n",
        "    * please capitalize names of consts and macros\n",
        "* Do **NOT** use(I will remind you of this):\n",
        "  * Global variables\n",
        "    * unless const\n",
        "  * break\n",
        "    * unless in a switch\n",
        "  * goto\n",
        "    * never"
      ],
      "metadata": {
        "id": "Fpxjd-J5lpE-"
      }
    },
    {
      "cell_type": "code",
      "source": [
        "%%writefile mikhail.c\n",
        "/********************************************************************************************\n",
        " * Name:\n",
        " * Class:\n",
        " * Assignment:\n",
        " * Program Name:\n",
        " * Description:\n",
        " * Notes:\n",
        " ********************************************************************************************/\n",
        "\n",
        "#include <stdio.h>\n",
        "\n",
        "int main()\n",
        "{\n",
        "\n",
        "\n",
        "return 0;\n",
        "}\n",
        "\n",
        "//==========================================================================================\n",
        "// Name:\n",
        "// Purpose:\n",
        "// Params:\n",
        "// Return:\n",
        "//=========================================================================================="
      ],
      "metadata": {
        "id": "3baeuRxklXHB"
      },
      "execution_count": null,
      "outputs": []
    }
  ]
}